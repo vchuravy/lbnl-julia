{
 "cells": [
  {
   "cell_type": "code",
   "execution_count": 1,
   "metadata": {},
   "outputs": [],
   "source": [
    "using CUDAnative, CuArrays\n",
    "using Base.Test"
   ]
  },
  {
   "cell_type": "code",
   "execution_count": 2,
   "metadata": {},
   "outputs": [
    {
     "data": {
      "text/plain": [
       "kernel_vadd (generic function with 1 method)"
      ]
     },
     "execution_count": 2,
     "metadata": {},
     "output_type": "execute_result"
    }
   ],
   "source": [
    "function kernel_vadd(a, b, c)\n",
    "    i = (blockIdx().x-1) * blockDim().x + threadIdx().x\n",
    "    c[i] = a[i] + b[i]\n",
    "\n",
    "    return nothing\n",
    "end"
   ]
  },
  {
   "cell_type": "code",
   "execution_count": 3,
   "metadata": {},
   "outputs": [
    {
     "data": {
      "text/plain": [
       "3×4 CuArray{Float32,2}:\n",
       " 0.0  0.0  0.0  0.0\n",
       " 0.0  0.0  0.0  0.0\n",
       " 0.0  0.0  0.0  0.0"
      ]
     },
     "execution_count": 3,
     "metadata": {},
     "output_type": "execute_result"
    }
   ],
   "source": [
    "dims = (3,4)\n",
    "a = round.(rand(Float32, dims) * 100)\n",
    "b = round.(rand(Float32, dims) * 100)\n",
    "\n",
    "d_a = CuArray(a)\n",
    "d_b = CuArray(b)\n",
    "d_c = similar(d_a)"
   ]
  },
  {
   "cell_type": "code",
   "execution_count": 15,
   "metadata": {},
   "outputs": [
    {
     "data": {
      "text/plain": [
       "\u001b[1m\u001b[32mTest Passed\u001b[39m\u001b[22m"
      ]
     },
     "execution_count": 15,
     "metadata": {},
     "output_type": "execute_result"
    }
   ],
   "source": [
    "len = prod(dims)\n",
    "@cuda (len, 1) kernel_vadd(d_a, d_b, d_c)\n",
    "c = Array(d_c)\n",
    "@test a .+ b ≈ c"
   ]
  },
  {
   "cell_type": "markdown",
   "metadata": {},
   "source": [
    "## Distributed computing and accelerated computing\n",
    "### The Julia way!\n",
    "\n",
    "Julia supports various forms of distributed computing.\n",
    "\n",
    "1. A native master-worker system based on remote procedure calls\n",
    "2. MPI through `MPI.jl`\n",
    "3. `DistributedArrays.jl`\n",
    "\n",
    "Julia also has support for accelerated computing\n",
    "\n",
    "1. Low-level (C kernel) based operations `OpenCL.jl` and `CUDAdrv.jl`\n",
    "2. Low-level (Julia kernel) based operations through `CUDAnative.jl`\n",
    "2. High-level vendor specific abstractions `CuArray.jl` and `CLArray.jl`\n",
    "2. High-level libraries like `ArrayFire.jl` and `GPUArrays.jl`\n",
    "\n",
    "#### The Julia way! Tell us where your data is and your program will follow.\n",
    "##### `broadcast` example"
   ]
  },
  {
   "cell_type": "code",
   "execution_count": 5,
   "metadata": {},
   "outputs": [],
   "source": [
    "B = ones(10_000) ./ 2;\n",
    "A = ones(10_000) .* π;"
   ]
  },
  {
   "cell_type": "code",
   "execution_count": 6,
   "metadata": {},
   "outputs": [
    {
     "data": {
      "text/plain": [
       "true"
      ]
     },
     "execution_count": 6,
     "metadata": {},
     "output_type": "execute_result"
    }
   ],
   "source": [
    "C = 2 .* A ./ B;\n",
    "all(C .≈ 4*π)"
   ]
  },
  {
   "cell_type": "code",
   "execution_count": 7,
   "metadata": {},
   "outputs": [
    {
     "data": {
      "text/plain": [
       "Array{Float64,1}"
      ]
     },
     "execution_count": 7,
     "metadata": {},
     "output_type": "execute_result"
    }
   ],
   "source": [
    "typeof(C)"
   ]
  },
  {
   "cell_type": "code",
   "execution_count": 8,
   "metadata": {},
   "outputs": [],
   "source": [
    "cuB = CuArray(B);\n",
    "cuA = CuArray(A);"
   ]
  },
  {
   "cell_type": "code",
   "execution_count": 16,
   "metadata": {},
   "outputs": [
    {
     "data": {
      "text/plain": [
       "false"
      ]
     },
     "execution_count": 16,
     "metadata": {},
     "output_type": "execute_result"
    }
   ],
   "source": [
    "cuC = 2 .* cuA ./ (cuB .* 3);\n",
    "# Disclaimer on Julia v0.6 some operations don't work `sin`. Use CUDAnative.sin instead.\n",
    "all(cuC .≈ 4*π)"
   ]
  },
  {
   "cell_type": "code",
   "execution_count": 10,
   "metadata": {},
   "outputs": [
    {
     "data": {
      "text/plain": [
       "CuArray{Float64,1}"
      ]
     },
     "execution_count": 10,
     "metadata": {},
     "output_type": "execute_result"
    }
   ],
   "source": [
    "typeof(cuC)"
   ]
  },
  {
   "cell_type": "code",
   "execution_count": 18,
   "metadata": {},
   "outputs": [],
   "source": [
    "addprocs(4)\n",
    "@everywhere using DistributedArrays"
   ]
  },
  {
   "cell_type": "code",
   "execution_count": 19,
   "metadata": {},
   "outputs": [],
   "source": [
    "dB = distribute(B);\n",
    "dA = distribute(A);"
   ]
  },
  {
   "cell_type": "code",
   "execution_count": 20,
   "metadata": {},
   "outputs": [
    {
     "data": {
      "text/plain": [
       "true"
      ]
     },
     "execution_count": 20,
     "metadata": {},
     "output_type": "execute_result"
    }
   ],
   "source": [
    "dC = 2 .* dA ./ dB;\n",
    "all(dC .≈ 4*π)"
   ]
  },
  {
   "cell_type": "code",
   "execution_count": 31,
   "metadata": {},
   "outputs": [
    {
     "ename": "LoadError",
     "evalue": "\u001b[91msyntax: extra token \")\" after end of expression\u001b[39m",
     "output_type": "error",
     "traceback": [
      "\u001b[91msyntax: extra token \")\" after end of expression\u001b[39m",
      "",
      "Stacktrace:",
      " [1] \u001b[1minclude_string\u001b[22m\u001b[22m\u001b[1m(\u001b[22m\u001b[22m::String, ::String\u001b[1m)\u001b[22m\u001b[22m at \u001b[1m./loading.jl:522\u001b[22m\u001b[22m"
     ]
    }
   ],
   "source": [
    "function mysum(X)\n",
    "    acc = 0)\n",
    "    for x in X\n",
    "        acc += x\n",
    "    end\n",
    "    acc\n",
    "end"
   ]
  },
  {
   "cell_type": "code",
   "execution_count": 25,
   "metadata": {},
   "outputs": [
    {
     "data": {
      "text/plain": [
       "4999.974425762488"
      ]
     },
     "execution_count": 25,
     "metadata": {},
     "output_type": "execute_result"
    }
   ],
   "source": [
    "mysum(rand(10_000))"
   ]
  },
  {
   "cell_type": "code",
   "execution_count": 32,
   "metadata": {},
   "outputs": [
    {
     "name": "stdout",
     "output_type": "stream",
     "text": [
      "Variables:\n",
      "  #self# <optimized out>\n",
      "  X::Array{Float64,1}\n",
      "  x::Float64\n",
      "  #temp#::Int64\n",
      "  acc::Float64\n",
      "\n",
      "Body:\n",
      "  begin \n",
      "      acc::Float64 = (Base.sitofp)(Float64, 0)::Float64 # line 3:\n",
      "      #temp#::Int64 = 1\n",
      "      4: \n",
      "      unless (Base.not_int)((#temp#::Int64 === (Base.add_int)((Base.arraylen)(X::Array{Float64,1})::Int64, 1)::Int64)::Bool)::Bool goto 14\n",
      "      SSAValue(2) = (Base.arrayref)(X::Array{Float64,1}, #temp#::Int64)::Float64\n",
      "      SSAValue(3) = (Base.add_int)(#temp#::Int64, 1)::Int64\n",
      "      x::Float64 = SSAValue(2)\n",
      "      #temp#::Int64 = SSAValue(3) # line 4:\n",
      "      acc::Float64 = (Base.add_float)(acc::Float64, x::Float64)::Float64\n",
      "      12: \n",
      "      goto 4\n",
      "      14:  # line 6:\n",
      "      return acc::Float64\n",
      "  end::Float64\n"
     ]
    }
   ],
   "source": [
    "@code_warntype mysum(rand( 10))"
   ]
  },
  {
   "cell_type": "code",
   "execution_count": null,
   "metadata": {},
   "outputs": [],
   "source": []
  }
 ],
 "metadata": {
  "kernelspec": {
   "display_name": "Julia 0.6.2",
   "language": "julia",
   "name": "julia-0.6"
  },
  "language_info": {
   "file_extension": ".jl",
   "mimetype": "application/julia",
   "name": "julia",
   "version": "0.6.2"
  }
 },
 "nbformat": 4,
 "nbformat_minor": 2
}
