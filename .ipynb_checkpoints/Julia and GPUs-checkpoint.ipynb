{
 "cells": [
  {
   "cell_type": "code",
   "execution_count": null,
   "metadata": {},
   "outputs": [],
   "source": [
    "using CUDAnative, CUArrays\n",
    "using Base.Test"
   ]
  },
  {
   "cell_type": "code",
   "execution_count": 3,
   "metadata": {},
   "outputs": [
    {
     "data": {
      "text/plain": [
       "kernel_vadd (generic function with 1 method)"
      ]
     },
     "execution_count": 3,
     "metadata": {},
     "output_type": "execute_result"
    }
   ],
   "source": [
    "function kernel_vadd(a, b, c)\n",
    "    i = (blockIdx().x-1) * blockDim().x + threadIdx().x\n",
    "    c[i] = a[i] + b[i]\n",
    "\n",
    "    return nothing\n",
    "end"
   ]
  },
  {
   "cell_type": "code",
   "execution_count": 4,
   "metadata": {},
   "outputs": [
    {
     "data": {
      "text/plain": [
       "3×4 Array{Float32,2}:\n",
       " 0.0  0.0  0.0  0.0\n",
       " 0.0  0.0  0.0  0.0\n",
       " 0.0  0.0  0.0  0.0"
      ]
     },
     "execution_count": 4,
     "metadata": {},
     "output_type": "execute_result"
    }
   ],
   "source": [
    "dims = (3,4)\n",
    "a = round.(rand(Float32, dims) * 100)\n",
    "b = round.(rand(Float32, dims) * 100)\n",
    "\n",
    "d_a = CuArray(a)\n",
    "d_b = CuArray(b)\n",
    "d_c = similar(d_a)"
   ]
  },
  {
   "cell_type": "code",
   "execution_count": 6,
   "metadata": {},
   "outputs": [
    {
     "data": {
      "text/plain": [
       "\u001b[1m\u001b[32mTest Passed\u001b[39m\u001b[22m"
      ]
     },
     "execution_count": 6,
     "metadata": {},
     "output_type": "execute_result"
    }
   ],
   "source": [
    "len = prod(dims)\n",
    "@cuda (len, 1) kernel_vadd(d_a, d_b, d_c)\n",
    "c = Array(d_c)\n",
    "@test a .+ b ≈ c"
   ]
  },
  {
   "cell_type": "code",
   "execution_count": 7,
   "metadata": {},
   "outputs": [
    {
     "ename": "LoadError",
     "evalue": "\u001b[91mindexing not defined for CUDAdrv.CuArray{Float32,2}\u001b[39m",
     "output_type": "error",
     "traceback": [
      "\u001b[91mindexing not defined for CUDAdrv.CuArray{Float32,2}\u001b[39m",
      "",
      "Stacktrace:",
      " [1] \u001b[1mgetindex\u001b[22m\u001b[22m at \u001b[1m./abstractarray.jl:882\u001b[22m\u001b[22m [inlined]",
      " [2] \u001b[1m_getindex\u001b[22m\u001b[22m at \u001b[1m./abstractarray.jl:929\u001b[22m\u001b[22m [inlined]",
      " [3] \u001b[1mgetindex\u001b[22m\u001b[22m at \u001b[1m./abstractarray.jl:883\u001b[22m\u001b[22m [inlined]",
      " [4] \u001b[1m_broadcast_getindex\u001b[22m\u001b[22m at \u001b[1m./broadcast.jl:135\u001b[22m\u001b[22m [inlined]",
      " [5] \u001b[1m_broadcast_getindex\u001b[22m\u001b[22m at \u001b[1m./broadcast.jl:130\u001b[22m\u001b[22m [inlined]",
      " [6] \u001b[1mmacro expansion\u001b[22m\u001b[22m at \u001b[1m./broadcast.jl:153\u001b[22m\u001b[22m [inlined]",
      " [7] \u001b[1mmacro expansion\u001b[22m\u001b[22m at \u001b[1m./simdloop.jl:73\u001b[22m\u001b[22m [inlined]",
      " [8] \u001b[1mmacro expansion\u001b[22m\u001b[22m at \u001b[1m./broadcast.jl:149\u001b[22m\u001b[22m [inlined]",
      " [9] \u001b[1m_broadcast!\u001b[22m\u001b[22m\u001b[1m(\u001b[22m\u001b[22m::Base.#+, ::Array{Float32,2}, ::Tuple{Tuple{Bool,Bool},Tuple{Bool,Bool}}, ::Tuple{Tuple{Int64,Int64},Tuple{Int64,Int64}}, ::CUDAdrv.CuArray{Float32,2}, ::Tuple{CUDAdrv.CuArray{Float32,2}}, ::Type{Val{1}}, ::CartesianRange{CartesianIndex{2}}\u001b[1m)\u001b[22m\u001b[22m at \u001b[1m./broadcast.jl:141\u001b[22m\u001b[22m",
      " [10] \u001b[1mbroadcast_t\u001b[22m\u001b[22m\u001b[1m(\u001b[22m\u001b[22m::Function, ::Type{T} where T, ::Tuple{Base.OneTo{Int64},Base.OneTo{Int64}}, ::CartesianRange{CartesianIndex{2}}, ::CUDAdrv.CuArray{Float32,2}, ::CUDAdrv.CuArray{Float32,2}\u001b[1m)\u001b[22m\u001b[22m at \u001b[1m./broadcast.jl:270\u001b[22m\u001b[22m",
      " [11] \u001b[1mbroadcast_c\u001b[22m\u001b[22m at \u001b[1m./broadcast.jl:316\u001b[22m\u001b[22m [inlined]",
      " [12] \u001b[1mbroadcast\u001b[22m\u001b[22m\u001b[1m(\u001b[22m\u001b[22m::Function, ::CUDAdrv.CuArray{Float32,2}, ::CUDAdrv.CuArray{Float32,2}\u001b[1m)\u001b[22m\u001b[22m at \u001b[1m./broadcast.jl:455\u001b[22m\u001b[22m",
      " [13] \u001b[1minclude_string\u001b[22m\u001b[22m\u001b[1m(\u001b[22m\u001b[22m::String, ::String\u001b[1m)\u001b[22m\u001b[22m at \u001b[1m./loading.jl:522\u001b[22m\u001b[22m"
     ]
    }
   ],
   "source": []
  },
  {
   "cell_type": "code",
   "execution_count": null,
   "metadata": {},
   "outputs": [],
   "source": []
  }
 ],
 "metadata": {
  "kernelspec": {
   "display_name": "Julia 0.6.2",
   "language": "julia",
   "name": "julia-0.6"
  },
  "language_info": {
   "file_extension": ".jl",
   "mimetype": "application/julia",
   "name": "julia",
   "version": "0.6.2"
  }
 },
 "nbformat": 4,
 "nbformat_minor": 2
}
