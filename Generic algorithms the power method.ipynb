{
 "cells": [
  {
   "cell_type": "code",
   "execution_count": 1,
   "metadata": {},
   "outputs": [],
   "source": [
    "using CuArrays"
   ]
  },
  {
   "cell_type": "code",
   "execution_count": 2,
   "metadata": {},
   "outputs": [],
   "source": [
    "using DistributedArrays"
   ]
  },
  {
   "cell_type": "markdown",
   "metadata": {},
   "source": [
    "## Generic algorithms: The power method as an example\n",
    "The power method is a simple algorithm (not recommended for serious use!) to calculate the largest eigenvalue of a matrix.\n",
    "\n",
    "Recall that $(\\mathbf{v}, \\lambda)$ is an eigenvector / eigenvalue pair for $\\mathsf{A}$ if\n",
    "\n",
    "$$\\mathsf{A} \\cdot \\mathbf{v} = \\lambda \\mathbf{v},$$\n",
    "\n",
    "where $\\lambda \\in \\mathbb{C}$ is a scalar, which, in general, may be a complex number.\n",
    "\n",
    "The algorithm is as follows:\n",
    "\n",
    "> Take an arbitrary non-zero initial vector $\\mathbf{v}_0$ and apply $\\mathsf{A}$ to it many times, to obtain the sequence\n",
    "\n",
    "> $$\\mathbf{v}_i := \\mathsf{A}^i \\cdot \\mathbf{v}_0.$$\n",
    "\n",
    "This sequence of vectors converges to the eigenvector of $\\mathsf{A}$ with the largest eigenvalue.\n",
    "\n",
    "If the $\\mathbf{v}_i$ are normalised (which, in practice, they usually must be so that they do not explode during the algorithm), then the eigenvalue is given by the limit of $\\mathbf{v}_n \\cdot \\mathsf{A} \\cdot \\mathbf{v}_n$. In practice, with finite precision (e.g. standard `Float64`), this limit is attained after a finite number of steps."
   ]
  },
  {
   "cell_type": "code",
   "execution_count": 3,
   "metadata": {},
   "outputs": [
    {
     "data": {
      "text/plain": [
       "2-element Array{Float64,1}:\n",
       " 1.0\n",
       " 1.0"
      ]
     },
     "execution_count": 3,
     "metadata": {},
     "output_type": "execute_result"
    }
   ],
   "source": [
    "M = [2 1; 1 1.]\n",
    "v = [1, 1.]"
   ]
  },
  {
   "cell_type": "code",
   "execution_count": 4,
   "metadata": {},
   "outputs": [
    {
     "data": {
      "text/plain": [
       "power_method (generic function with 1 method)"
      ]
     },
     "execution_count": 4,
     "metadata": {},
     "output_type": "execute_result"
    }
   ],
   "source": [
    "function power_method(M, v)\n",
    "    for i in 1:100\n",
    "        v = M*v        # repeatedly creates a new vector and destroys the old v\n",
    "        v /= norm(v)\n",
    "    end\n",
    "    \n",
    "    return v, norm(M*v) / norm(v)  # or  (M*v) ./ v\n",
    "end"
   ]
  },
  {
   "cell_type": "markdown",
   "metadata": {},
   "source": [
    "We could write a version that *modifies* its argument `v`, if we so desired:"
   ]
  },
  {
   "cell_type": "code",
   "execution_count": 5,
   "metadata": {},
   "outputs": [
    {
     "data": {
      "text/plain": [
       "power_method! (generic function with 1 method)"
      ]
     },
     "execution_count": 5,
     "metadata": {},
     "output_type": "execute_result"
    }
   ],
   "source": [
    "function power_method!(M, v)\n",
    "    for i in 1:100\n",
    "        v[:] = normalize(M*v)   # assign in-place to the elements of v\n",
    "    end\n",
    "    \n",
    "    return v, norm(M*v) / norm(v)\n",
    "end"
   ]
  },
  {
   "cell_type": "code",
   "execution_count": 6,
   "metadata": {},
   "outputs": [
    {
     "data": {
      "text/plain": [
       "([0.850651, 0.525731], 2.618033988749895)"
      ]
     },
     "execution_count": 6,
     "metadata": {},
     "output_type": "execute_result"
    }
   ],
   "source": [
    "power_method(M, rand(2))"
   ]
  },
  {
   "cell_type": "markdown",
   "metadata": {},
   "source": [
    "## What is generic about this?"
   ]
  },
  {
   "cell_type": "markdown",
   "metadata": {},
   "source": [
    "This code is **generic**: we have not specified what kind of object `M` and `v` are, i.e. what **type** of object they are. We can now try using different types of arguments:"
   ]
  },
  {
   "cell_type": "code",
   "execution_count": 7,
   "metadata": {},
   "outputs": [
    {
     "data": {
      "text/plain": [
       "(1.0, 3.0)"
      ]
     },
     "execution_count": 7,
     "metadata": {},
     "output_type": "execute_result"
    }
   ],
   "source": [
    "power_method(3, 1)"
   ]
  },
  {
   "cell_type": "markdown",
   "metadata": {},
   "source": [
    "Here, we have effectively treated the number $3$ as an operator that takes $x$ and returns $3x$.  The power method is thus a complicated way to solve the equation $3x = \\lambda x$ and show that the operator $3$ has eigenvalue $3$ and \"eigenvector\" $1$."
   ]
  },
  {
   "cell_type": "markdown",
   "metadata": {},
   "source": [
    "### Special matrix types"
   ]
  },
  {
   "cell_type": "code",
   "execution_count": 8,
   "metadata": {},
   "outputs": [
    {
     "data": {
      "text/plain": [
       "3×3 Diagonal{Float64}:\n",
       " 1.0   ⋅    ⋅ \n",
       "  ⋅   2.0   ⋅ \n",
       "  ⋅    ⋅   3.0"
      ]
     },
     "execution_count": 8,
     "metadata": {},
     "output_type": "execute_result"
    }
   ],
   "source": [
    "D = Diagonal([1, 2, 3.])"
   ]
  },
  {
   "cell_type": "code",
   "execution_count": 9,
   "metadata": {},
   "outputs": [
    {
     "data": {
      "text/plain": [
       "5×5 Array{Float64,2}:\n",
       " 0.772952  0.172261  0.0       0.0       0.0     \n",
       " 0.172261  0.103728  0.688705  0.0       0.0     \n",
       " 0.0       0.688705  0.193313  0.440462  0.0     \n",
       " 0.0       0.0       0.440462  0.113913  0.544683\n",
       " 0.0       0.0       0.0       0.544683  0.692239"
      ]
     },
     "execution_count": 9,
     "metadata": {},
     "output_type": "execute_result"
    }
   ],
   "source": [
    "n = 100\n",
    "S = SymTridiagonal(rand(n), rand(n-1))\n",
    "S[1:5, 1:5]"
   ]
  },
  {
   "cell_type": "code",
   "execution_count": 10,
   "metadata": {},
   "outputs": [
    {
     "data": {
      "text/plain": [
       "([2.8748e-16, 1.59458e-15, 3.69368e-15, 1.04023e-14, 2.79249e-14, 3.13246e-14, 6.84046e-14, 1.53086e-12, 1.46898e-10, 2.10869e-10  …  2.3669e-6, 6.2076e-6, 4.73332e-6, 3.0246e-6, 4.4592e-6, 8.77511e-6, 7.85602e-6, 1.00159e-5, 9.96368e-6, 2.91294e-6], 2.162220705846712)"
      ]
     },
     "execution_count": 10,
     "metadata": {},
     "output_type": "execute_result"
    }
   ],
   "source": [
    "vecS, valS = power_method(S, rand(n))"
   ]
  },
  {
   "cell_type": "markdown",
   "metadata": {},
   "source": [
    "Let's compare the result with the built-in Julia function `eigvals`, which, in this case, uses a function from the LAPACK library:"
   ]
  },
  {
   "cell_type": "code",
   "execution_count": 11,
   "metadata": {},
   "outputs": [
    {
     "data": {
      "text/plain": [
       "-4.78044297480551e-8"
      ]
     },
     "execution_count": 11,
     "metadata": {},
     "output_type": "execute_result"
    }
   ],
   "source": [
    "λ = eigvals(S)\n",
    "valS - maximum(abs.(λ))"
   ]
  },
  {
   "cell_type": "markdown",
   "metadata": {},
   "source": [
    "### Special data types"
   ]
  },
  {
   "cell_type": "code",
   "execution_count": 12,
   "metadata": {},
   "outputs": [
    {
     "data": {
      "text/plain": [
       "2×2 Array{BigFloat,2}:\n",
       " 2.000000000000000000000000000000000000000000000000000000000000000000000000000000  …  1.000000000000000000000000000000000000000000000000000000000000000000000000000000\n",
       " 1.000000000000000000000000000000000000000000000000000000000000000000000000000000     1.000000000000000000000000000000000000000000000000000000000000000000000000000000"
      ]
     },
     "execution_count": 12,
     "metadata": {},
     "output_type": "execute_result"
    }
   ],
   "source": [
    "M = BigFloat[2 1; 1 1.]"
   ]
  },
  {
   "cell_type": "code",
   "execution_count": 13,
   "metadata": {},
   "outputs": [
    {
     "data": {
      "text/plain": [
       "2-element Array{BigFloat,1}:\n",
       " 1.000000000000000000000000000000000000000000000000000000000000000000000000000000\n",
       " 1.000000000000000000000000000000000000000000000000000000000000000000000000000000"
      ]
     },
     "execution_count": 13,
     "metadata": {},
     "output_type": "execute_result"
    }
   ],
   "source": [
    "v = [big(1.0), big(1.0)]"
   ]
  },
  {
   "cell_type": "code",
   "execution_count": 14,
   "metadata": {},
   "outputs": [
    {
     "data": {
      "text/plain": [
       "(BigFloat[8.506508083520399321815404970630110722404014037648168818367402423778840473639636e-01, 5.257311121191336060256690848478766072854979322433417815289355232412111464032098e-01], 2.618033988749894848204586834365638117720309179805762862135448622705260462818892)"
      ]
     },
     "execution_count": 14,
     "metadata": {},
     "output_type": "execute_result"
    }
   ],
   "source": [
    "vecB, valB = power_method(M, v)"
   ]
  },
  {
   "cell_type": "markdown",
   "metadata": {},
   "source": [
    "For this particular matrix, an analytical expression for the eigenvalue may be obtained in the standard way, as a root of the characteristic polynomial $(\\lambda - 2)(\\lambda - 1) - 1 = 0$, giving"
   ]
  },
  {
   "cell_type": "code",
   "execution_count": 15,
   "metadata": {},
   "outputs": [
    {
     "data": {
      "text/plain": [
       "2.618033988749894848204586834365638117720309179805762862135448622705260462818927"
      ]
     },
     "execution_count": 15,
     "metadata": {},
     "output_type": "execute_result"
    }
   ],
   "source": [
    "λ = (3 + sqrt(big(5))) / 2"
   ]
  },
  {
   "cell_type": "code",
   "execution_count": 16,
   "metadata": {},
   "outputs": [
    {
     "data": {
      "text/plain": [
       "3.454467422037777850154540745120159828446400145774512554009481388067436721264971e-77"
      ]
     },
     "execution_count": 16,
     "metadata": {},
     "output_type": "execute_result"
    }
   ],
   "source": [
    "λ - valB"
   ]
  },
  {
   "cell_type": "markdown",
   "metadata": {},
   "source": [
    "### Distributed and GPU"
   ]
  },
  {
   "cell_type": "code",
   "execution_count": 17,
   "metadata": {},
   "outputs": [
    {
     "data": {
      "text/plain": [
       "2-element Array{Float64,1}:\n",
       " 1.0\n",
       " 1.0"
      ]
     },
     "execution_count": 17,
     "metadata": {},
     "output_type": "execute_result"
    }
   ],
   "source": [
    "M = [2 1; 1 1.]\n",
    "v = [1, 1.]"
   ]
  },
  {
   "cell_type": "code",
   "execution_count": 18,
   "metadata": {},
   "outputs": [
    {
     "name": "stderr",
     "output_type": "stream",
     "text": [
      "\u001b[1m\u001b[33mWARNING: \u001b[39m\u001b[22m\u001b[33mrmprocs: process 1 not removed\u001b[39m\n"
     ]
    },
    {
     "data": {
      "text/plain": [
       "Task (done) @0x00007fb1ea2fcfd0"
      ]
     },
     "execution_count": 18,
     "metadata": {},
     "output_type": "execute_result"
    }
   ],
   "source": [
    "rmprocs(workers())"
   ]
  },
  {
   "cell_type": "code",
   "execution_count": 19,
   "metadata": {},
   "outputs": [
    {
     "data": {
      "text/plain": [
       "2-element CuArray{Float64,1}:\n",
       " 1.0\n",
       " 1.0"
      ]
     },
     "execution_count": 19,
     "metadata": {},
     "output_type": "execute_result"
    }
   ],
   "source": [
    "MM = CuArray(M)\n",
    "vv = CuArray(v)"
   ]
  },
  {
   "cell_type": "code",
   "execution_count": 20,
   "metadata": {},
   "outputs": [
    {
     "data": {
      "text/plain": [
       "([0.850651, 0.525731], 2.618033988749895)"
      ]
     },
     "execution_count": 20,
     "metadata": {},
     "output_type": "execute_result"
    }
   ],
   "source": [
    "power_method(M, v)"
   ]
  },
  {
   "cell_type": "code",
   "execution_count": 21,
   "metadata": {},
   "outputs": [
    {
     "data": {
      "text/plain": [
       "4-element Array{Int64,1}:\n",
       " 2\n",
       " 3\n",
       " 4\n",
       " 5"
      ]
     },
     "execution_count": 21,
     "metadata": {},
     "output_type": "execute_result"
    }
   ],
   "source": [
    "addprocs(4)"
   ]
  },
  {
   "cell_type": "code",
   "execution_count": 22,
   "metadata": {},
   "outputs": [],
   "source": [
    "@everywhere using DistributedArrays"
   ]
  },
  {
   "cell_type": "code",
   "execution_count": 23,
   "metadata": {},
   "outputs": [
    {
     "data": {
      "text/plain": [
       "10×10 DistributedArrays.DArray{Float64,2,Array{Float64,2}}:\n",
       " 0.504374  0.982495   0.386204   0.360294  …  0.860438   0.444029   0.324142\n",
       " 0.700654  0.314599   0.117906   0.464149     0.502569   0.972273   0.531093\n",
       " 0.937465  0.031751   0.0447864  0.903031     0.260214   0.342965   0.115887\n",
       " 0.498277  0.0728517  0.24941    0.687868     0.530149   0.92327    0.206641\n",
       " 0.345595  0.526941   0.349415   0.632943     0.344171   0.0899879  0.388206\n",
       " 0.703489  0.374165   0.98185    0.86164   …  0.476898   0.851652   0.473932\n",
       " 0.762659  0.284202   0.338087   0.354351     0.266979   0.921681   0.465987\n",
       " 0.374188  0.80588    0.657993   0.156958     0.374697   0.321962   0.897289\n",
       " 0.295236  0.641101   0.209363   0.307681     0.955236   0.077319   0.41348 \n",
       " 0.438149  0.729322   0.197634   0.418993     0.0602878  0.0112896  0.397498"
      ]
     },
     "execution_count": 23,
     "metadata": {},
     "output_type": "execute_result"
    }
   ],
   "source": [
    "dM = drand(10, 10)"
   ]
  },
  {
   "cell_type": "code",
   "execution_count": 24,
   "metadata": {},
   "outputs": [
    {
     "data": {
      "text/plain": [
       "10-element DistributedArrays.DArray{Float64,1,Array{Float64,1}}:\n",
       " 0.708128 \n",
       " 0.667162 \n",
       " 0.849175 \n",
       " 0.336484 \n",
       " 0.284678 \n",
       " 0.897403 \n",
       " 0.232561 \n",
       " 0.988791 \n",
       " 0.0776817\n",
       " 0.0976372"
      ]
     },
     "execution_count": 24,
     "metadata": {},
     "output_type": "execute_result"
    }
   ],
   "source": [
    "dv = drand(10)"
   ]
  },
  {
   "cell_type": "code",
   "execution_count": 25,
   "metadata": {},
   "outputs": [
    {
     "data": {
      "text/plain": [
       "2×2 Array{Tuple{UnitRange{Int64},UnitRange{Int64}},2}:\n",
       " (1:5, 1:5)   (1:5, 6:10) \n",
       " (6:10, 1:5)  (6:10, 6:10)"
      ]
     },
     "execution_count": 25,
     "metadata": {},
     "output_type": "execute_result"
    }
   ],
   "source": [
    "dM.indexes"
   ]
  },
  {
   "cell_type": "code",
   "execution_count": 26,
   "metadata": {},
   "outputs": [
    {
     "data": {
      "text/plain": [
       "([0.380173, 0.372802, 0.259598, 0.350225, 0.249828, 0.362065, 0.313425, 0.286614, 0.314207, 0.232], 4.858036310733682)"
      ]
     },
     "execution_count": 26,
     "metadata": {},
     "output_type": "execute_result"
    }
   ],
   "source": [
    "power_method(dM, dv)"
   ]
  },
  {
   "cell_type": "code",
   "execution_count": null,
   "metadata": {},
   "outputs": [],
   "source": []
  }
 ],
 "metadata": {
  "kernelspec": {
   "display_name": "Julia 0.6.2",
   "language": "julia",
   "name": "julia-0.6"
  },
  "language_info": {
   "file_extension": ".jl",
   "mimetype": "application/julia",
   "name": "julia",
   "version": "0.6.2"
  }
 },
 "nbformat": 4,
 "nbformat_minor": 2
}
